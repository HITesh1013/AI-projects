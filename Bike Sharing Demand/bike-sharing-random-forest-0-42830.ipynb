{
 "cells": [
  {
   "cell_type": "markdown",
   "id": "universal-college",
   "metadata": {
    "execution": {
     "iopub.execute_input": "2021-07-06T18:09:17.399577Z",
     "iopub.status.busy": "2021-07-06T18:09:17.399258Z",
     "iopub.status.idle": "2021-07-06T18:09:17.405057Z",
     "shell.execute_reply": "2021-07-06T18:09:17.403624Z",
     "shell.execute_reply.started": "2021-07-06T18:09:17.39955Z"
    },
    "papermill": {
     "duration": 0.03322,
     "end_time": "2021-07-06T19:10:27.409295",
     "exception": false,
     "start_time": "2021-07-06T19:10:27.376075",
     "status": "completed"
    },
    "tags": []
   },
   "source": [
    "**Importing required libraries**"
   ]
  },
  {
   "cell_type": "code",
   "execution_count": 1,
   "id": "greatest-antique",
   "metadata": {
    "execution": {
     "iopub.execute_input": "2021-07-06T19:10:27.480046Z",
     "iopub.status.busy": "2021-07-06T19:10:27.478849Z",
     "iopub.status.idle": "2021-07-06T19:10:28.960621Z",
     "shell.execute_reply": "2021-07-06T19:10:28.959770Z",
     "shell.execute_reply.started": "2021-07-06T18:35:19.292242Z"
    },
    "papermill": {
     "duration": 1.518238,
     "end_time": "2021-07-06T19:10:28.960784",
     "exception": false,
     "start_time": "2021-07-06T19:10:27.442546",
     "status": "completed"
    },
    "tags": []
   },
   "outputs": [],
   "source": [
    "import numpy as np\n",
    "import pandas as pd\n",
    "import seaborn as sns\n",
    "from matplotlib.pyplot import figure\n",
    "from sklearn.preprocessing import StandardScaler\n",
    "\n",
    "from sklearn.ensemble import RandomForestRegressor\n",
    "from sklearn.ensemble import BaggingRegressor\n",
    "\n",
    "import warnings\n",
    "warnings.filterwarnings('ignore')"
   ]
  },
  {
   "cell_type": "markdown",
   "id": "disabled-oxide",
   "metadata": {
    "papermill": {
     "duration": 0.032557,
     "end_time": "2021-07-06T19:10:29.026020",
     "exception": false,
     "start_time": "2021-07-06T19:10:28.993463",
     "status": "completed"
    },
    "tags": []
   },
   "source": [
    "Reading data"
   ]
  },
  {
   "cell_type": "code",
   "execution_count": 2,
   "id": "unlike-energy",
   "metadata": {
    "execution": {
     "iopub.execute_input": "2021-07-06T19:10:29.099825Z",
     "iopub.status.busy": "2021-07-06T19:10:29.096997Z",
     "iopub.status.idle": "2021-07-06T19:10:29.186457Z",
     "shell.execute_reply": "2021-07-06T19:10:29.185858Z",
     "shell.execute_reply.started": "2021-07-06T18:35:19.739472Z"
    },
    "papermill": {
     "duration": 0.127051,
     "end_time": "2021-07-06T19:10:29.186608",
     "exception": false,
     "start_time": "2021-07-06T19:10:29.059557",
     "status": "completed"
    },
    "tags": []
   },
   "outputs": [],
   "source": [
    "train=pd.read_csv('../input/bike-sharing-demand/train.csv', parse_dates = ['datetime'])\n",
    "test=pd.read_csv('../input/bike-sharing-demand/test.csv', parse_dates = ['datetime'])\n",
    "sampsub = pd.read_csv(\"../input/bike-sharing-demand/sampleSubmission.csv\")"
   ]
  },
  {
   "cell_type": "code",
   "execution_count": 3,
   "id": "outer-workplace",
   "metadata": {
    "execution": {
     "iopub.execute_input": "2021-07-06T19:10:29.262007Z",
     "iopub.status.busy": "2021-07-06T19:10:29.261286Z",
     "iopub.status.idle": "2021-07-06T19:10:29.282644Z",
     "shell.execute_reply": "2021-07-06T19:10:29.283175Z",
     "shell.execute_reply.started": "2021-07-06T18:35:19.799848Z"
    },
    "papermill": {
     "duration": 0.063695,
     "end_time": "2021-07-06T19:10:29.283346",
     "exception": false,
     "start_time": "2021-07-06T19:10:29.219651",
     "status": "completed"
    },
    "tags": []
   },
   "outputs": [
    {
     "data": {
      "text/html": [
       "<div>\n",
       "<style scoped>\n",
       "    .dataframe tbody tr th:only-of-type {\n",
       "        vertical-align: middle;\n",
       "    }\n",
       "\n",
       "    .dataframe tbody tr th {\n",
       "        vertical-align: top;\n",
       "    }\n",
       "\n",
       "    .dataframe thead th {\n",
       "        text-align: right;\n",
       "    }\n",
       "</style>\n",
       "<table border=\"1\" class=\"dataframe\">\n",
       "  <thead>\n",
       "    <tr style=\"text-align: right;\">\n",
       "      <th></th>\n",
       "      <th>datetime</th>\n",
       "      <th>season</th>\n",
       "      <th>holiday</th>\n",
       "      <th>workingday</th>\n",
       "      <th>weather</th>\n",
       "      <th>temp</th>\n",
       "      <th>atemp</th>\n",
       "      <th>humidity</th>\n",
       "      <th>windspeed</th>\n",
       "      <th>casual</th>\n",
       "      <th>registered</th>\n",
       "      <th>count</th>\n",
       "    </tr>\n",
       "  </thead>\n",
       "  <tbody>\n",
       "    <tr>\n",
       "      <th>0</th>\n",
       "      <td>2011-01-01 00:00:00</td>\n",
       "      <td>1</td>\n",
       "      <td>0</td>\n",
       "      <td>0</td>\n",
       "      <td>1</td>\n",
       "      <td>9.84</td>\n",
       "      <td>14.395</td>\n",
       "      <td>81</td>\n",
       "      <td>0.0</td>\n",
       "      <td>3</td>\n",
       "      <td>13</td>\n",
       "      <td>16</td>\n",
       "    </tr>\n",
       "    <tr>\n",
       "      <th>1</th>\n",
       "      <td>2011-01-01 01:00:00</td>\n",
       "      <td>1</td>\n",
       "      <td>0</td>\n",
       "      <td>0</td>\n",
       "      <td>1</td>\n",
       "      <td>9.02</td>\n",
       "      <td>13.635</td>\n",
       "      <td>80</td>\n",
       "      <td>0.0</td>\n",
       "      <td>8</td>\n",
       "      <td>32</td>\n",
       "      <td>40</td>\n",
       "    </tr>\n",
       "    <tr>\n",
       "      <th>2</th>\n",
       "      <td>2011-01-01 02:00:00</td>\n",
       "      <td>1</td>\n",
       "      <td>0</td>\n",
       "      <td>0</td>\n",
       "      <td>1</td>\n",
       "      <td>9.02</td>\n",
       "      <td>13.635</td>\n",
       "      <td>80</td>\n",
       "      <td>0.0</td>\n",
       "      <td>5</td>\n",
       "      <td>27</td>\n",
       "      <td>32</td>\n",
       "    </tr>\n",
       "    <tr>\n",
       "      <th>3</th>\n",
       "      <td>2011-01-01 03:00:00</td>\n",
       "      <td>1</td>\n",
       "      <td>0</td>\n",
       "      <td>0</td>\n",
       "      <td>1</td>\n",
       "      <td>9.84</td>\n",
       "      <td>14.395</td>\n",
       "      <td>75</td>\n",
       "      <td>0.0</td>\n",
       "      <td>3</td>\n",
       "      <td>10</td>\n",
       "      <td>13</td>\n",
       "    </tr>\n",
       "    <tr>\n",
       "      <th>4</th>\n",
       "      <td>2011-01-01 04:00:00</td>\n",
       "      <td>1</td>\n",
       "      <td>0</td>\n",
       "      <td>0</td>\n",
       "      <td>1</td>\n",
       "      <td>9.84</td>\n",
       "      <td>14.395</td>\n",
       "      <td>75</td>\n",
       "      <td>0.0</td>\n",
       "      <td>0</td>\n",
       "      <td>1</td>\n",
       "      <td>1</td>\n",
       "    </tr>\n",
       "  </tbody>\n",
       "</table>\n",
       "</div>"
      ],
      "text/plain": [
       "             datetime  season  holiday  workingday  weather  temp   atemp  \\\n",
       "0 2011-01-01 00:00:00       1        0           0        1  9.84  14.395   \n",
       "1 2011-01-01 01:00:00       1        0           0        1  9.02  13.635   \n",
       "2 2011-01-01 02:00:00       1        0           0        1  9.02  13.635   \n",
       "3 2011-01-01 03:00:00       1        0           0        1  9.84  14.395   \n",
       "4 2011-01-01 04:00:00       1        0           0        1  9.84  14.395   \n",
       "\n",
       "   humidity  windspeed  casual  registered  count  \n",
       "0        81        0.0       3          13     16  \n",
       "1        80        0.0       8          32     40  \n",
       "2        80        0.0       5          27     32  \n",
       "3        75        0.0       3          10     13  \n",
       "4        75        0.0       0           1      1  "
      ]
     },
     "execution_count": 3,
     "metadata": {},
     "output_type": "execute_result"
    }
   ],
   "source": [
    "train.head()"
   ]
  },
  {
   "cell_type": "code",
   "execution_count": 4,
   "id": "applicable-jaguar",
   "metadata": {
    "execution": {
     "iopub.execute_input": "2021-07-06T19:10:29.353153Z",
     "iopub.status.busy": "2021-07-06T19:10:29.352571Z",
     "iopub.status.idle": "2021-07-06T19:10:29.358886Z",
     "shell.execute_reply": "2021-07-06T19:10:29.358429Z",
     "shell.execute_reply.started": "2021-07-06T18:35:19.825947Z"
    },
    "papermill": {
     "duration": 0.041533,
     "end_time": "2021-07-06T19:10:29.359015",
     "exception": false,
     "start_time": "2021-07-06T19:10:29.317482",
     "status": "completed"
    },
    "tags": []
   },
   "outputs": [
    {
     "data": {
      "text/plain": [
       "(10886, 12)"
      ]
     },
     "execution_count": 4,
     "metadata": {},
     "output_type": "execute_result"
    }
   ],
   "source": [
    "train.shape"
   ]
  },
  {
   "cell_type": "code",
   "execution_count": 5,
   "id": "italian-topic",
   "metadata": {
    "execution": {
     "iopub.execute_input": "2021-07-06T19:10:29.411356Z",
     "iopub.status.busy": "2021-07-06T19:10:29.410657Z",
     "iopub.status.idle": "2021-07-06T19:10:29.415451Z",
     "shell.execute_reply": "2021-07-06T19:10:29.414972Z",
     "shell.execute_reply.started": "2021-07-06T18:35:19.834879Z"
    },
    "papermill": {
     "duration": 0.033633,
     "end_time": "2021-07-06T19:10:29.415572",
     "exception": false,
     "start_time": "2021-07-06T19:10:29.381939",
     "status": "completed"
    },
    "tags": []
   },
   "outputs": [
    {
     "data": {
      "text/plain": [
       "datetime      datetime64[ns]\n",
       "season                 int64\n",
       "holiday                int64\n",
       "workingday             int64\n",
       "weather                int64\n",
       "temp                 float64\n",
       "atemp                float64\n",
       "humidity               int64\n",
       "windspeed            float64\n",
       "casual                 int64\n",
       "registered             int64\n",
       "count                  int64\n",
       "dtype: object"
      ]
     },
     "execution_count": 5,
     "metadata": {},
     "output_type": "execute_result"
    }
   ],
   "source": [
    "train.dtypes"
   ]
  },
  {
   "cell_type": "code",
   "execution_count": 6,
   "id": "impressed-antique",
   "metadata": {
    "execution": {
     "iopub.execute_input": "2021-07-06T19:10:29.470689Z",
     "iopub.status.busy": "2021-07-06T19:10:29.470146Z",
     "iopub.status.idle": "2021-07-06T19:10:29.795918Z",
     "shell.execute_reply": "2021-07-06T19:10:29.796336Z",
     "shell.execute_reply.started": "2021-07-06T18:35:19.84938Z"
    },
    "papermill": {
     "duration": 0.35688,
     "end_time": "2021-07-06T19:10:29.796499",
     "exception": false,
     "start_time": "2021-07-06T19:10:29.439619",
     "status": "completed"
    },
    "tags": []
   },
   "outputs": [
    {
     "data": {
      "text/plain": [
       "<AxesSubplot:>"
      ]
     },
     "execution_count": 6,
     "metadata": {},
     "output_type": "execute_result"
    },
    {
     "data": {
      "image/png": "[encoded data removed]",
      "text/plain": [
       "<Figure size 864x576 with 2 Axes>"
      ]
     },
     "metadata": {
      "needs_background": "light"
     },
     "output_type": "display_data"
    }
   ],
   "source": [
    "figure(figsize=(12, 8))\n",
    "sns.heatmap(train.corr())"
   ]
  },
  {
   "cell_type": "markdown",
   "id": "medieval-discipline",
   "metadata": {
    "papermill": {
     "duration": 0.023265,
     "end_time": "2021-07-06T19:10:29.843232",
     "exception": false,
     "start_time": "2021-07-06T19:10:29.819967",
     "status": "completed"
    },
    "tags": []
   },
   "source": [
    "**Taking date as a fratures. Converted date columns to year, month, day, hour and weekday column**"
   ]
  },
  {
   "cell_type": "code",
   "execution_count": 7,
   "id": "complete-solid",
   "metadata": {
    "execution": {
     "iopub.execute_input": "2021-07-06T19:10:29.892462Z",
     "iopub.status.busy": "2021-07-06T19:10:29.891825Z",
     "iopub.status.idle": "2021-07-06T19:10:29.904200Z",
     "shell.execute_reply": "2021-07-06T19:10:29.904676Z",
     "shell.execute_reply.started": "2021-07-06T18:35:20.195303Z"
    },
    "papermill": {
     "duration": 0.038172,
     "end_time": "2021-07-06T19:10:29.904816",
     "exception": false,
     "start_time": "2021-07-06T19:10:29.866644",
     "status": "completed"
    },
    "tags": []
   },
   "outputs": [],
   "source": [
    "train['year'] = train['datetime'].dt.year\n",
    "train['month'] = train['datetime'].dt.month\n",
    "train['day'] = train['datetime'].dt.day\n",
    "train['hour'] = train['datetime'].dt.hour\n",
    "train['weekday'] = train['datetime'].dt.weekday"
   ]
  },
  {
   "cell_type": "markdown",
   "id": "frequent-audit",
   "metadata": {
    "execution": {
     "iopub.execute_input": "2021-07-06T18:16:50.779928Z",
     "iopub.status.busy": "2021-07-06T18:16:50.779539Z",
     "iopub.status.idle": "2021-07-06T18:16:50.785296Z",
     "shell.execute_reply": "2021-07-06T18:16:50.784296Z",
     "shell.execute_reply.started": "2021-07-06T18:16:50.779872Z"
    },
    "papermill": {
     "duration": 0.023591,
     "end_time": "2021-07-06T19:10:29.951646",
     "exception": false,
     "start_time": "2021-07-06T19:10:29.928055",
     "status": "completed"
    },
    "tags": []
   },
   "source": [
    "Removing date column"
   ]
  },
  {
   "cell_type": "code",
   "execution_count": 8,
   "id": "educational-shooting",
   "metadata": {
    "execution": {
     "iopub.execute_input": "2021-07-06T19:10:30.002294Z",
     "iopub.status.busy": "2021-07-06T19:10:30.001655Z",
     "iopub.status.idle": "2021-07-06T19:10:30.009547Z",
     "shell.execute_reply": "2021-07-06T19:10:30.008985Z",
     "shell.execute_reply.started": "2021-07-06T18:35:20.212946Z"
    },
    "papermill": {
     "duration": 0.034447,
     "end_time": "2021-07-06T19:10:30.009669",
     "exception": false,
     "start_time": "2021-07-06T19:10:29.975222",
     "status": "completed"
    },
    "tags": []
   },
   "outputs": [],
   "source": [
    "train = train.drop('datetime', axis = 1)"
   ]
  },
  {
   "cell_type": "markdown",
   "id": "considered-serbia",
   "metadata": {
    "execution": {
     "iopub.execute_input": "2021-07-06T18:20:48.279437Z",
     "iopub.status.busy": "2021-07-06T18:20:48.279091Z",
     "iopub.status.idle": "2021-07-06T18:20:48.285189Z",
     "shell.execute_reply": "2021-07-06T18:20:48.283759Z",
     "shell.execute_reply.started": "2021-07-06T18:20:48.279409Z"
    },
    "papermill": {
     "duration": 0.023297,
     "end_time": "2021-07-06T19:10:30.057324",
     "exception": false,
     "start_time": "2021-07-06T19:10:30.034027",
     "status": "completed"
    },
    "tags": []
   },
   "source": [
    "Applying same conversion on test data also"
   ]
  },
  {
   "cell_type": "code",
   "execution_count": 9,
   "id": "committed-pricing",
   "metadata": {
    "execution": {
     "iopub.execute_input": "2021-07-06T19:10:30.110120Z",
     "iopub.status.busy": "2021-07-06T19:10:30.109672Z",
     "iopub.status.idle": "2021-07-06T19:10:30.117408Z",
     "shell.execute_reply": "2021-07-06T19:10:30.117006Z",
     "shell.execute_reply.started": "2021-07-06T18:35:20.223729Z"
    },
    "papermill": {
     "duration": 0.03648,
     "end_time": "2021-07-06T19:10:30.117508",
     "exception": false,
     "start_time": "2021-07-06T19:10:30.081028",
     "status": "completed"
    },
    "tags": []
   },
   "outputs": [],
   "source": [
    "test['year'] = test['datetime'].dt.year\n",
    "test['month'] = test['datetime'].dt.month\n",
    "test['day'] = test['datetime'].dt.day\n",
    "test['hour'] = test['datetime'].dt.hour\n",
    "test['weekday'] = test['datetime'].dt.weekday"
   ]
  },
  {
   "cell_type": "code",
   "execution_count": 10,
   "id": "classified-reason",
   "metadata": {
    "execution": {
     "iopub.execute_input": "2021-07-06T19:10:30.170170Z",
     "iopub.status.busy": "2021-07-06T19:10:30.169519Z",
     "iopub.status.idle": "2021-07-06T19:10:30.173247Z",
     "shell.execute_reply": "2021-07-06T19:10:30.173784Z",
     "shell.execute_reply.started": "2021-07-06T18:35:20.241784Z"
    },
    "papermill": {
     "duration": 0.032422,
     "end_time": "2021-07-06T19:10:30.173953",
     "exception": false,
     "start_time": "2021-07-06T19:10:30.141531",
     "status": "completed"
    },
    "tags": []
   },
   "outputs": [],
   "source": [
    "test = test.drop('datetime', axis = 1)"
   ]
  },
  {
   "cell_type": "markdown",
   "id": "impressed-costs",
   "metadata": {
    "papermill": {
     "duration": 0.040384,
     "end_time": "2021-07-06T19:10:30.252887",
     "exception": false,
     "start_time": "2021-07-06T19:10:30.212503",
     "status": "completed"
    },
    "tags": []
   },
   "source": [
    "Here temp, atemp, humidity and windspeed features available are not in binary form so using Normalization method for this four column"
   ]
  },
  {
   "cell_type": "code",
   "execution_count": 11,
   "id": "geographic-angel",
   "metadata": {
    "execution": {
     "iopub.execute_input": "2021-07-06T19:10:30.334119Z",
     "iopub.status.busy": "2021-07-06T19:10:30.333432Z",
     "iopub.status.idle": "2021-07-06T19:10:30.336939Z",
     "shell.execute_reply": "2021-07-06T19:10:30.336442Z",
     "shell.execute_reply.started": "2021-07-06T18:35:20.249763Z"
    },
    "papermill": {
     "duration": 0.044851,
     "end_time": "2021-07-06T19:10:30.337047",
     "exception": false,
     "start_time": "2021-07-06T19:10:30.292196",
     "status": "completed"
    },
    "tags": []
   },
   "outputs": [],
   "source": [
    "col = ['temp', 'atemp', 'humidity', 'windspeed']"
   ]
  },
  {
   "cell_type": "code",
   "execution_count": 12,
   "id": "concerned-house",
   "metadata": {
    "execution": {
     "iopub.execute_input": "2021-07-06T19:10:30.393776Z",
     "iopub.status.busy": "2021-07-06T19:10:30.392967Z",
     "iopub.status.idle": "2021-07-06T19:10:30.512030Z",
     "shell.execute_reply": "2021-07-06T19:10:30.512420Z",
     "shell.execute_reply.started": "2021-07-06T18:35:20.259889Z"
    },
    "papermill": {
     "duration": 0.151798,
     "end_time": "2021-07-06T19:10:30.512567",
     "exception": false,
     "start_time": "2021-07-06T19:10:30.360769",
     "status": "completed"
    },
    "tags": []
   },
   "outputs": [],
   "source": [
    "for i in col:\n",
    "    scaler = StandardScaler()\n",
    "    train[col]=scaler.fit_transform(train[col])\n",
    "    test[col]=scaler.transform(test[col])   "
   ]
  },
  {
   "cell_type": "code",
   "execution_count": 13,
   "id": "genetic-disposal",
   "metadata": {
    "execution": {
     "iopub.execute_input": "2021-07-06T19:10:30.563177Z",
     "iopub.status.busy": "2021-07-06T19:10:30.562715Z",
     "iopub.status.idle": "2021-07-06T19:10:30.708309Z",
     "shell.execute_reply": "2021-07-06T19:10:30.708791Z",
     "shell.execute_reply.started": "2021-07-06T19:03:23.779980Z"
    },
    "papermill": {
     "duration": 0.173126,
     "end_time": "2021-07-06T19:10:30.708958",
     "exception": false,
     "start_time": "2021-07-06T19:10:30.535832",
     "status": "completed"
    },
    "tags": []
   },
   "outputs": [
    {
     "data": {
      "text/plain": [
       "<AxesSubplot:>"
      ]
     },
     "execution_count": 13,
     "metadata": {},
     "output_type": "execute_result"
    },
    {
     "data": {
      "image/png": "[encoded data removed]",
      "text/plain": [
       "<Figure size 432x288 with 1 Axes>"
      ]
     },
     "metadata": {
      "needs_background": "light"
     },
     "output_type": "display_data"
    }
   ],
   "source": [
    "train['count'].hist()"
   ]
  },
  {
   "cell_type": "markdown",
   "id": "brief-appraisal",
   "metadata": {
    "papermill": {
     "duration": 0.036684,
     "end_time": "2021-07-06T19:10:30.781844",
     "exception": false,
     "start_time": "2021-07-06T19:10:30.745160",
     "status": "completed"
    },
    "tags": []
   },
   "source": [
    "Splitting data into X_train and y_train datasets"
   ]
  },
  {
   "cell_type": "code",
   "execution_count": 14,
   "id": "close-metadata",
   "metadata": {
    "execution": {
     "iopub.execute_input": "2021-07-06T19:10:30.861395Z",
     "iopub.status.busy": "2021-07-06T19:10:30.860792Z",
     "iopub.status.idle": "2021-07-06T19:10:30.863596Z",
     "shell.execute_reply": "2021-07-06T19:10:30.863067Z",
     "shell.execute_reply.started": "2021-07-06T19:03:33.859233Z"
    },
    "papermill": {
     "duration": 0.044267,
     "end_time": "2021-07-06T19:10:30.863719",
     "exception": false,
     "start_time": "2021-07-06T19:10:30.819452",
     "status": "completed"
    },
    "tags": []
   },
   "outputs": [],
   "source": [
    "X_train = train.drop(['count', 'casual','registered'], axis = 1)\n",
    "y_train = train['count']"
   ]
  },
  {
   "cell_type": "markdown",
   "id": "agricultural-track",
   "metadata": {
    "papermill": {
     "duration": 0.036319,
     "end_time": "2021-07-06T19:10:30.936434",
     "exception": false,
     "start_time": "2021-07-06T19:10:30.900115",
     "status": "completed"
    },
    "tags": []
   },
   "source": [
    "In y_train data is in skewed form so using log transform to manage data"
   ]
  },
  {
   "cell_type": "code",
   "execution_count": 15,
   "id": "coordinate-broadway",
   "metadata": {
    "execution": {
     "iopub.execute_input": "2021-07-06T19:10:31.013522Z",
     "iopub.status.busy": "2021-07-06T19:10:31.012882Z",
     "iopub.status.idle": "2021-07-06T19:10:31.014546Z",
     "shell.execute_reply": "2021-07-06T19:10:31.015054Z",
     "shell.execute_reply.started": "2021-07-06T18:35:20.397353Z"
    },
    "papermill": {
     "duration": 0.042711,
     "end_time": "2021-07-06T19:10:31.015214",
     "exception": false,
     "start_time": "2021-07-06T19:10:30.972503",
     "status": "completed"
    },
    "tags": []
   },
   "outputs": [],
   "source": [
    "y_train = np.log(y_train.values)"
   ]
  },
  {
   "cell_type": "markdown",
   "id": "previous-paris",
   "metadata": {
    "papermill": {
     "duration": 0.035999,
     "end_time": "2021-07-06T19:10:31.087467",
     "exception": false,
     "start_time": "2021-07-06T19:10:31.051468",
     "status": "completed"
    },
    "tags": []
   },
   "source": [
    "checking final shape of train and test data"
   ]
  },
  {
   "cell_type": "code",
   "execution_count": 16,
   "id": "figured-start",
   "metadata": {
    "execution": {
     "iopub.execute_input": "2021-07-06T19:10:31.164239Z",
     "iopub.status.busy": "2021-07-06T19:10:31.163674Z",
     "iopub.status.idle": "2021-07-06T19:10:31.169032Z",
     "shell.execute_reply": "2021-07-06T19:10:31.168519Z",
     "shell.execute_reply.started": "2021-07-06T18:35:20.408517Z"
    },
    "papermill": {
     "duration": 0.044637,
     "end_time": "2021-07-06T19:10:31.169142",
     "exception": false,
     "start_time": "2021-07-06T19:10:31.124505",
     "status": "completed"
    },
    "tags": []
   },
   "outputs": [
    {
     "data": {
      "text/plain": [
       "((10886, 13), (10886,), (6493, 13))"
      ]
     },
     "execution_count": 16,
     "metadata": {},
     "output_type": "execute_result"
    }
   ],
   "source": [
    "X_train.shape, y_train.shape, test.shape"
   ]
  },
  {
   "cell_type": "markdown",
   "id": "independent-belarus",
   "metadata": {
    "papermill": {
     "duration": 0.023769,
     "end_time": "2021-07-06T19:10:31.217260",
     "exception": false,
     "start_time": "2021-07-06T19:10:31.193491",
     "status": "completed"
    },
    "tags": []
   },
   "source": [
    "Created random forest algorithm for predictions"
   ]
  },
  {
   "cell_type": "code",
   "execution_count": 17,
   "id": "finished-insertion",
   "metadata": {
    "execution": {
     "iopub.execute_input": "2021-07-06T19:10:31.268571Z",
     "iopub.status.busy": "2021-07-06T19:10:31.268083Z",
     "iopub.status.idle": "2021-07-06T19:10:31.271255Z",
     "shell.execute_reply": "2021-07-06T19:10:31.271734Z",
     "shell.execute_reply.started": "2021-07-06T18:35:20.419667Z"
    },
    "papermill": {
     "duration": 0.030016,
     "end_time": "2021-07-06T19:10:31.271855",
     "exception": false,
     "start_time": "2021-07-06T19:10:31.241839",
     "status": "completed"
    },
    "tags": []
   },
   "outputs": [],
   "source": [
    "model_rf = RandomForestRegressor(random_state=2021)"
   ]
  },
  {
   "cell_type": "markdown",
   "id": "executive-growth",
   "metadata": {
    "papermill": {
     "duration": 0.023772,
     "end_time": "2021-07-06T19:10:31.320041",
     "exception": false,
     "start_time": "2021-07-06T19:10:31.296269",
     "status": "completed"
    },
    "tags": []
   },
   "source": [
    "applying bagging regression concept for random forest algorithm"
   ]
  },
  {
   "cell_type": "code",
   "execution_count": 18,
   "id": "selective-sullivan",
   "metadata": {
    "execution": {
     "iopub.execute_input": "2021-07-06T19:10:31.371030Z",
     "iopub.status.busy": "2021-07-06T19:10:31.370555Z",
     "iopub.status.idle": "2021-07-06T19:10:31.375192Z",
     "shell.execute_reply": "2021-07-06T19:10:31.375681Z",
     "shell.execute_reply.started": "2021-07-06T18:35:20.432491Z"
    },
    "papermill": {
     "duration": 0.031548,
     "end_time": "2021-07-06T19:10:31.375814",
     "exception": false,
     "start_time": "2021-07-06T19:10:31.344266",
     "status": "completed"
    },
    "tags": []
   },
   "outputs": [],
   "source": [
    "model_bg = BaggingRegressor(base_estimator = model_rf, random_state=2021,oob_score=True, max_features=X_train.shape[1], n_estimators = 15,\n",
    "                             max_samples=X_train.shape[0])"
   ]
  },
  {
   "cell_type": "markdown",
   "id": "departmental-completion",
   "metadata": {
    "papermill": {
     "duration": 0.024194,
     "end_time": "2021-07-06T19:10:31.424984",
     "exception": false,
     "start_time": "2021-07-06T19:10:31.400790",
     "status": "completed"
    },
    "tags": []
   },
   "source": [
    "fitting this model with random forest and bagging regression concept"
   ]
  },
  {
   "cell_type": "code",
   "execution_count": 19,
   "id": "helpful-mason",
   "metadata": {
    "execution": {
     "iopub.execute_input": "2021-07-06T19:10:31.478694Z",
     "iopub.status.busy": "2021-07-06T19:10:31.478133Z",
     "iopub.status.idle": "2021-07-06T19:11:21.653540Z",
     "shell.execute_reply": "2021-07-06T19:11:21.654056Z",
     "shell.execute_reply.started": "2021-07-06T18:35:20.443291Z"
    },
    "papermill": {
     "duration": 50.203614,
     "end_time": "2021-07-06T19:11:21.654217",
     "exception": false,
     "start_time": "2021-07-06T19:10:31.450603",
     "status": "completed"
    },
    "tags": []
   },
   "outputs": [
    {
     "data": {
      "text/plain": [
       "BaggingRegressor(base_estimator=RandomForestRegressor(random_state=2021),\n",
       "                 max_features=13, max_samples=10886, n_estimators=15,\n",
       "                 oob_score=True, random_state=2021)"
      ]
     },
     "execution_count": 19,
     "metadata": {},
     "output_type": "execute_result"
    }
   ],
   "source": [
    "model_bg.fit( X_train , y_train )"
   ]
  },
  {
   "cell_type": "markdown",
   "id": "renewable-huntington",
   "metadata": {
    "papermill": {
     "duration": 0.036231,
     "end_time": "2021-07-06T19:11:21.727481",
     "exception": false,
     "start_time": "2021-07-06T19:11:21.691250",
     "status": "completed"
    },
    "tags": []
   },
   "source": [
    "Predicting results from above model"
   ]
  },
  {
   "cell_type": "code",
   "execution_count": 20,
   "id": "threaded-wheat",
   "metadata": {
    "execution": {
     "iopub.execute_input": "2021-07-06T19:11:21.807125Z",
     "iopub.status.busy": "2021-07-06T19:11:21.806452Z",
     "iopub.status.idle": "2021-07-06T19:11:23.285078Z",
     "shell.execute_reply": "2021-07-06T19:11:23.285598Z",
     "shell.execute_reply.started": "2021-07-06T18:36:05.671248Z"
    },
    "papermill": {
     "duration": 1.520601,
     "end_time": "2021-07-06T19:11:23.285785",
     "exception": false,
     "start_time": "2021-07-06T19:11:21.765184",
     "status": "completed"
    },
    "tags": []
   },
   "outputs": [],
   "source": [
    "y_pred = model_bg.predict(test)"
   ]
  },
  {
   "cell_type": "markdown",
   "id": "requested-client",
   "metadata": {
    "papermill": {
     "duration": 0.036483,
     "end_time": "2021-07-06T19:11:23.359280",
     "exception": false,
     "start_time": "2021-07-06T19:11:23.322797",
     "status": "completed"
    },
    "tags": []
   },
   "source": [
    "Taking anti log transform of predicted result"
   ]
  },
  {
   "cell_type": "code",
   "execution_count": 21,
   "id": "authorized-display",
   "metadata": {
    "execution": {
     "iopub.execute_input": "2021-07-06T19:11:23.436773Z",
     "iopub.status.busy": "2021-07-06T19:11:23.436032Z",
     "iopub.status.idle": "2021-07-06T19:11:23.440948Z",
     "shell.execute_reply": "2021-07-06T19:11:23.440292Z",
     "shell.execute_reply.started": "2021-07-06T18:36:07.238012Z"
    },
    "papermill": {
     "duration": 0.045186,
     "end_time": "2021-07-06T19:11:23.441085",
     "exception": false,
     "start_time": "2021-07-06T19:11:23.395899",
     "status": "completed"
    },
    "tags": []
   },
   "outputs": [],
   "source": [
    "y_pred =np.exp(y_pred)"
   ]
  },
  {
   "cell_type": "markdown",
   "id": "undefined-divide",
   "metadata": {
    "papermill": {
     "duration": 0.037349,
     "end_time": "2021-07-06T19:11:23.516567",
     "exception": false,
     "start_time": "2021-07-06T19:11:23.479218",
     "status": "completed"
    },
    "tags": []
   },
   "source": [
    "Creating submission file"
   ]
  },
  {
   "cell_type": "code",
   "execution_count": 22,
   "id": "subject-happening",
   "metadata": {
    "execution": {
     "iopub.execute_input": "2021-07-06T19:11:23.597259Z",
     "iopub.status.busy": "2021-07-06T19:11:23.596764Z",
     "iopub.status.idle": "2021-07-06T19:11:23.600293Z",
     "shell.execute_reply": "2021-07-06T19:11:23.599737Z",
     "shell.execute_reply.started": "2021-07-06T18:36:07.246219Z"
    },
    "papermill": {
     "duration": 0.046612,
     "end_time": "2021-07-06T19:11:23.600451",
     "exception": false,
     "start_time": "2021-07-06T19:11:23.553839",
     "status": "completed"
    },
    "tags": []
   },
   "outputs": [],
   "source": [
    "submission = pd.DataFrame({ \"datetime\": sampsub.datetime, \"count\": y_pred})"
   ]
  },
  {
   "cell_type": "code",
   "execution_count": 23,
   "id": "religious-zealand",
   "metadata": {
    "execution": {
     "iopub.execute_input": "2021-07-06T19:11:23.682232Z",
     "iopub.status.busy": "2021-07-06T19:11:23.681335Z",
     "iopub.status.idle": "2021-07-06T19:11:23.690959Z",
     "shell.execute_reply": "2021-07-06T19:11:23.691648Z",
     "shell.execute_reply.started": "2021-07-06T18:36:07.26005Z"
    },
    "papermill": {
     "duration": 0.054373,
     "end_time": "2021-07-06T19:11:23.691838",
     "exception": false,
     "start_time": "2021-07-06T19:11:23.637465",
     "status": "completed"
    },
    "tags": []
   },
   "outputs": [
    {
     "data": {
      "text/html": [
       "<div>\n",
       "<style scoped>\n",
       "    .dataframe tbody tr th:only-of-type {\n",
       "        vertical-align: middle;\n",
       "    }\n",
       "\n",
       "    .dataframe tbody tr th {\n",
       "        vertical-align: top;\n",
       "    }\n",
       "\n",
       "    .dataframe thead th {\n",
       "        text-align: right;\n",
       "    }\n",
       "</style>\n",
       "<table border=\"1\" class=\"dataframe\">\n",
       "  <thead>\n",
       "    <tr style=\"text-align: right;\">\n",
       "      <th></th>\n",
       "      <th>datetime</th>\n",
       "      <th>count</th>\n",
       "    </tr>\n",
       "  </thead>\n",
       "  <tbody>\n",
       "    <tr>\n",
       "      <th>0</th>\n",
       "      <td>2011-01-20 00:00:00</td>\n",
       "      <td>13.186473</td>\n",
       "    </tr>\n",
       "    <tr>\n",
       "      <th>1</th>\n",
       "      <td>2011-01-20 01:00:00</td>\n",
       "      <td>5.388164</td>\n",
       "    </tr>\n",
       "    <tr>\n",
       "      <th>2</th>\n",
       "      <td>2011-01-20 02:00:00</td>\n",
       "      <td>3.880935</td>\n",
       "    </tr>\n",
       "    <tr>\n",
       "      <th>3</th>\n",
       "      <td>2011-01-20 03:00:00</td>\n",
       "      <td>3.024837</td>\n",
       "    </tr>\n",
       "    <tr>\n",
       "      <th>4</th>\n",
       "      <td>2011-01-20 04:00:00</td>\n",
       "      <td>2.543904</td>\n",
       "    </tr>\n",
       "  </tbody>\n",
       "</table>\n",
       "</div>"
      ],
      "text/plain": [
       "              datetime      count\n",
       "0  2011-01-20 00:00:00  13.186473\n",
       "1  2011-01-20 01:00:00   5.388164\n",
       "2  2011-01-20 02:00:00   3.880935\n",
       "3  2011-01-20 03:00:00   3.024837\n",
       "4  2011-01-20 04:00:00   2.543904"
      ]
     },
     "execution_count": 23,
     "metadata": {},
     "output_type": "execute_result"
    }
   ],
   "source": [
    "submission.head()"
   ]
  },
  {
   "cell_type": "code",
   "execution_count": 24,
   "id": "serious-gentleman",
   "metadata": {
    "execution": {
     "iopub.execute_input": "2021-07-06T19:11:23.762102Z",
     "iopub.status.busy": "2021-07-06T19:11:23.761505Z",
     "iopub.status.idle": "2021-07-06T19:11:23.786899Z",
     "shell.execute_reply": "2021-07-06T19:11:23.786295Z",
     "shell.execute_reply.started": "2021-07-06T18:36:07.282139Z"
    },
    "papermill": {
     "duration": 0.062216,
     "end_time": "2021-07-06T19:11:23.787045",
     "exception": false,
     "start_time": "2021-07-06T19:11:23.724829",
     "status": "completed"
    },
    "tags": []
   },
   "outputs": [],
   "source": [
    "submission.to_csv(\"submission_random_forest_bagging.csv\", index=False)"
   ]
  }
 ],
 "metadata": {
  "kernelspec": {
   "display_name": "Python 3",
   "language": "python",
   "name": "python3"
  },
  "language_info": {
   "codemirror_mode": {
    "name": "ipython",
    "version": 3
   },
   "file_extension": ".py",
   "mimetype": "text/x-python",
   "name": "python",
   "nbconvert_exporter": "python",
   "pygments_lexer": "ipython3",
   "version": "3.7.10"
  },
  "papermill": {
   "default_parameters": {},
   "duration": 64.89965,
   "end_time": "2021-07-06T19:11:24.726267",
   "environment_variables": {},
   "exception": null,
   "input_path": "__notebook__.ipynb",
   "output_path": "__notebook__.ipynb",
   "parameters": {},
   "start_time": "2021-07-06T19:10:19.826617",
   "version": "2.3.3"
  }
 },
 "nbformat": 4,
 "nbformat_minor": 5
}
